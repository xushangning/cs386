{
 "cells": [
  {
   "cell_type": "code",
   "execution_count": 1,
   "metadata": {},
   "outputs": [
    {
     "name": "stderr",
     "output_type": "stream",
     "text": [
      "Using TensorFlow backend.\n"
     ]
    }
   ],
   "source": [
    "from Dataset import Dataset"
   ]
  },
  {
   "cell_type": "code",
   "execution_count": 2,
   "metadata": {},
   "outputs": [],
   "source": [
    "import numpy as np\n",
    "import tensorflow as tf\n",
    "import keras.layers as L\n",
    "from keras.models import Sequential\n",
    "from keras.optimizers import SGD\n",
    "from keras.callbacks import *\n",
    "from sklearn.model_selection import train_test_split"
   ]
  },
  {
   "cell_type": "code",
   "execution_count": 10,
   "metadata": {},
   "outputs": [],
   "source": [
    "from IPython.display import clear_output\n",
    "import matplotlib.pyplot as plt\n",
    "\n",
    "class VisualizationCallback(Callback):\n",
    "    def __init__(self, on_batch=False):\n",
    "        Callback.__init__(self)\n",
    "        self.on_batch = on_batch\n",
    "    \n",
    "    def visualize(self):\n",
    "        clear_output(True)\n",
    "        plt.figure(figsize=[12, 4])\n",
    "        \n",
    "        plt.subplot(1,2,1)\n",
    "        plt.title(\"losses\")\n",
    "        plt.plot(self.loss_train, label='train loss')\n",
    "        plt.plot(self.loss_val, label='val loss')\n",
    "        plt.grid()\n",
    "        plt.legend()\n",
    "\n",
    "        plt.subplot(1,2,2)\n",
    "        plt.title(\"accuracy\")\n",
    "        plt.plot(self.val_x, self.acc_train, label='train acc')\n",
    "        plt.plot(self.val_x, self.acc_val, label='val acc')\n",
    "        plt.grid()\n",
    "        plt.legend()\n",
    "        plt.show()\n",
    "    \n",
    "    def on_train_begin(self, logs={}):\n",
    "        self.loss_train = []\n",
    "        self.acc_train = []\n",
    "        self.loss_val = []\n",
    "        self.acc_val = []\n",
    "        self.val_x = []\n",
    "\n",
    "    def on_batch_end(self, batch, logs={}):\n",
    "        if self.on_batch:\n",
    "            self.loss_val.append(logs['val_loss'])\n",
    "            self.acc_val.append(logs['val_acc'])\n",
    "            if batch % 100 == 0:\n",
    "                self.visualize()\n",
    "    \n",
    "    def on_epoch_end(self, epoch, logs):\n",
    "        self.loss_val.append(logs['val_loss'])\n",
    "        self.acc_val.append(logs['val_acc'])\n",
    "        self.val_x.append(len(self.acc_train)-1)\n",
    "        if not self.on_batch:\n",
    "            self.loss_train.append(logs['loss'])\n",
    "            self.acc_train.append(logs['acc'])\n",
    "            self.visualize()\n",
    "        \n",
    "        "
   ]
  },
  {
   "cell_type": "code",
   "execution_count": 11,
   "metadata": {},
   "outputs": [],
   "source": [
    "# training framework for oracle net\n",
    "class OracleNetTrainer(object):\n",
    "    def __init__(self, test_size=0.1, autosave_path='./tmp/weights.{val_loss:.2f}.hdf5', vis_on_batch=False):\n",
    "        \"\"\"\n",
    "        \n",
    "        :param test_size: ratio of test (validation) set \n",
    "        :param autosave_path: path to auto save training results\n",
    "        :param vis_on_batch: whether to record visualization on batch\n",
    "        \"\"\"\n",
    "        # load original data\n",
    "        X, y = Dataset.load_data(one_hot=False, num_cat=40)\n",
    "        # normalize image to 0.0 - 1.0\n",
    "        X = X / 255\n",
    "        # covert to different categories\n",
    "        y40 = Dataset.to_onehot(y, 40)\n",
    "        y = Dataset.cat40_to_cat10(y)\n",
    "        y10 = Dataset.to_onehot(y, 10)\n",
    "        # train test split\n",
    "        idx = list(range(y40.shape[0]))\n",
    "        self.y_train = {}\n",
    "        self.y_val = {}\n",
    "        self.X_train, self.X_val, y_train_idx, y_val_idx = train_test_split(X, idx, test_size=test_size, shuffle=True)\n",
    "        self.y_train[40], self.y_val[40] = y40[y_train_idx], y40[y_val_idx]\n",
    "        self.y_train[10], self.y_val[10] = y10[y_train_idx], y10[y_val_idx]\n",
    "        # initialize callbacks\n",
    "        self.checkpointer = ModelCheckpoint(filepath=autosave_path, verbose=1, save_best_only=True)\n",
    "        self.visualizer = VisualizationCallback(vis_on_batch)\n",
    "\n",
    "    def train(self, model, num_cat=10, batch_size=32, epochs=50):\n",
    "        assert num_cat in [10, 40], \"Number of categories can only be 10 or 40\"\n",
    "        model.fit(self.X_train, self.y_train[num_cat], batch_size=batch_size, epochs=epochs,\n",
    "                  validation_data=(self.X_val, self.y_val[num_cat]),\n",
    "                  callbacks=[self.visualizer, self.checkpointer])\n",
    "\n",
    "default_trainer = OracleNetTrainer()"
   ]
  },
  {
   "cell_type": "markdown",
   "metadata": {},
   "source": [
    "### Simple Cat10"
   ]
  },
  {
   "cell_type": "code",
   "execution_count": 12,
   "metadata": {},
   "outputs": [],
   "source": [
    "def cat10_model_simple():\n",
    "    model = Sequential()\n",
    "    \n",
    "#     model.add(L.Conv2D(32, (3, 3), activation='relu', input_shape=(64, 64, 1)))\n",
    "#     model.add(L.Conv2D(32, (3, 3), activation='relu'))\n",
    "#     model.add(L.MaxPooling2D(pool_size=(2, 2)))\n",
    "# #     model.add(L.Dropout(0.25))\n",
    "\n",
    "#     model.add(L.Conv2D(64, (3, 3), activation='relu'))\n",
    "#     model.add(L.Conv2D(64, (3, 3), activation='relu'))\n",
    "#     model.add(L.MaxPooling2D(pool_size=(2, 2)))\n",
    "#     model.add(L.Dropout(0.25))\n",
    "    \n",
    "    model.add(L.Flatten(input_shape=(64,64,1)))\n",
    "#     model.add(L.Flatten())\n",
    "    model.add(L.Dense(64, activation='relu'))\n",
    "    model.add(L.Dense(64, activation='relu'))\n",
    "    model.add(L.Dense(10, activation='softmax'))\n",
    "    \n",
    "    return model"
   ]
  },
  {
   "cell_type": "code",
   "execution_count": 13,
   "metadata": {
    "scrolled": true
   },
   "outputs": [
    {
     "name": "stdout",
     "output_type": "stream",
     "text": [
      "_________________________________________________________________\n",
      "Layer (type)                 Output Shape              Param #   \n",
      "=================================================================\n",
      "flatten_2 (Flatten)          (None, 4096)              0         \n",
      "_________________________________________________________________\n",
      "dense_4 (Dense)              (None, 64)                262208    \n",
      "_________________________________________________________________\n",
      "dense_5 (Dense)              (None, 64)                4160      \n",
      "_________________________________________________________________\n",
      "dense_6 (Dense)              (None, 10)                650       \n",
      "=================================================================\n",
      "Total params: 267,018\n",
      "Trainable params: 267,018\n",
      "Non-trainable params: 0\n",
      "_________________________________________________________________\n"
     ]
    }
   ],
   "source": [
    "model = cat10_model_simple()\n",
    "model.summary()"
   ]
  },
  {
   "cell_type": "code",
   "execution_count": 14,
   "metadata": {
    "scrolled": false
   },
   "outputs": [
    {
     "data": {
      "image/png": "[encoded data removed]",
      "text/plain": [
       "<Figure size 864x288 with 2 Axes>"
      ]
     },
     "metadata": {
      "needs_background": "light"
     },
     "output_type": "display_data"
    },
    {
     "name": "stdout",
     "output_type": "stream",
     "text": [
      "\n",
      "Epoch 00050: val_loss did not improve from 1.42270\n"
     ]
    }
   ],
   "source": [
    "sgd = SGD(lr=0.001, decay=1e-6, momentum=0.9, nesterov=True)\n",
    "model.compile(loss='categorical_crossentropy', optimizer=sgd,\n",
    "              metrics=['accuracy'])\n",
    "\n",
    "default_trainer.train(model)"
   ]
  },
  {
   "cell_type": "code",
   "execution_count": null,
   "metadata": {},
   "outputs": [],
   "source": [
    "model.evaluate(X_val, y_val)"
   ]
  }
 ],
 "metadata": {
  "kernelspec": {
   "display_name": "Python 3",
   "language": "python",
   "name": "python3"
  },
  "language_info": {
   "codemirror_mode": {
    "name": "ipython",
    "version": 3
   },
   "file_extension": ".py",
   "mimetype": "text/x-python",
   "name": "python",
   "nbconvert_exporter": "python",
   "pygments_lexer": "ipython3",
   "version": "3.7.1"
  }
 },
 "nbformat": 4,
 "nbformat_minor": 2
}
